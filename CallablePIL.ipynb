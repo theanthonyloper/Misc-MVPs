{
 "cells": [
  {
   "cell_type": "code",
   "execution_count": 4,
   "metadata": {},
   "outputs": [],
   "source": [
    "from tkinter import Tk, Toplevel, Frame, Label, Button, BOTH, LEFT, TOP\n",
    "from PIL import ImageTk, Image\n",
    "\n",
    "\n",
    "img_path = \"C:/Users/antho/Downloads/testimage.jpg\"\n",
    "\n",
    "def PIL_img(path):\n",
    "    img = Image.open(path)\n",
    "#     img = img.transpose(Image.ROTATE_270)\n",
    "    basewidth = 500\n",
    "    wpercent = (basewidth/float(img.size[0]))\n",
    "    hsize = int((float(img.size[1])*float(wpercent)))\n",
    "    img = img.resize((basewidth,hsize), Image.ANTIALIAS)\n",
    "    photo = ImageTk.PhotoImage(img)\n",
    "    return photo\n",
    "\n",
    "root = Toplevel()\n",
    "root.title(\"MVP of PIL Image display package for Tkinter\")  \n",
    "root.geometry(\"+30+30\")\n",
    "\n",
    "################################################################################\n",
    "#  Label\n",
    "ph = PIL_img(img_path)\n",
    "panel = Label(root, image = ph)\n",
    "panel.image=ph \n",
    "panel.pack(side = \"bottom\", fill = \"both\", expand = \"yes\")\n",
    "\n",
    "root.lift()\n",
    "root.mainloop()"
   ]
  }
 ],
 "metadata": {
  "kernelspec": {
   "display_name": "Python 3",
   "language": "python",
   "name": "python3"
  },
  "language_info": {
   "codemirror_mode": {
    "name": "ipython",
    "version": 3
   },
   "file_extension": ".py",
   "mimetype": "text/x-python",
   "name": "python",
   "nbconvert_exporter": "python",
   "pygments_lexer": "ipython3",
   "version": "3.8.3"
  }
 },
 "nbformat": 4,
 "nbformat_minor": 4
}
